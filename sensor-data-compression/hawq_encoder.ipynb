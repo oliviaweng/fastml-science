{
 "cells": [
  {
   "cell_type": "code",
   "execution_count": null,
   "metadata": {},
   "outputs": [],
   "source": [
    "import matplotlib.pyplot as plt\n",
    "import numpy as np\n",
    "from pulp import *\n",
    "import pulp \n",
    "from tabulate import tabulate"
   ]
  },
  {
   "cell_type": "code",
   "execution_count": null,
   "metadata": {},
   "outputs": [
    {
     "name": "stderr",
     "output_type": "stream",
     "text": [
      "sssssssssssssssssssssssssssssssssssssssssssssssssssssssssssssssssssssssssssssssssssssssssssssssssssssssssssssssssssssssssssssssssssssssssssssssssssssssssssssssssssssssssssssssssssssssssssssssssssssssssssssssssssssssssssssssssssssssssssssssssssssssssssssssssssssssssssssssssssssssssssssssssssssss...........................................................sssssssssssssssssssssssssssssssssssssssssssssssssssssssssssssssssssssssssssssssssssssssssssssssssssssssssssssssssssssssssssssssssssssssssssssssssssssssssssssssssssssssssssssssssssssssssssssssssssssssssssssssssssssssssssssssssssssssssssssssssssssssssssssssssssssssssssssssssssssssssssssssssssssss...................."
     ]
    },
    {
     "name": "stdout",
     "output_type": "stream",
     "text": [
      "\t Test that logic put in place for deprecation handling of indexs works\n",
      "\t Testing 'indexs' param continues to work for LpVariable.dicts\n",
      "\t Testing 'indexs' param continues to work for LpVariable.matrix\n",
      "\t Testing 'indices' argument works in LpVariable.dicts\n",
      "\t Testing 'indices' param continues to work for LpVariable.matrix\n",
      "\t Testing invalid status\n",
      "\t Testing continuous LP solution - export dict\n",
      "\t Testing export dict for LP\n",
      "\t Testing export dict MIP\n",
      "\t Testing maximize continuous LP solution\n",
      "\t Testing continuous LP solution - export JSON\n",
      "\t Testing continuous LP solution - export solver dict\n",
      "\t Testing continuous LP solution - export solver JSON\n",
      "\t Testing reading MPS files - binary variable, no constraint names\n",
      "\t Testing reading MPS files - integer variable\n",
      "\t Testing reading MPS files - maximize\n",
      "\t Testing reading MPS files - noname\n",
      "\t Testing invalid var names\n",
      "\t Testing makeDict general behavior\n",
      "\t Testing makeDict default value behavior\n",
      "\t Testing measuring optimization time\n",
      "\t Testing that `readsol` can parse CPLEX mipopt solution\n",
      "\t Testing the availability of the function pulpTestAll\n",
      "\t Testing zero subtraction\n",
      "\t Testing inconsistent lp solution\n",
      "\t Testing continuous LP solution\n",
      "\t Testing maximize continuous LP solution\n",
      "\t Testing unbounded continuous LP solution\n",
      "\t Testing Long Names\n",
      "\t Testing repeated Names\n",
      "\t Testing zero constraint\n",
      "\t Testing zero objective\n",
      "\t Testing LpVariable (not LpAffineExpression) objective\n",
      "\t Testing LpAffineExpression divide\n",
      "\t Testing MIP solution\n",
      "\t Testing MIP solution with floats in objective\n",
      "\t Testing Initial value in MIP solution\n",
      "\t Testing fixing value in MIP solution\n",
      "\t Testing MIP relaxation\n",
      "\t Testing feasibility problem (no objective)\n",
      "\t Testing an infeasible problem\n",
      "\t Testing an integer infeasible problem\n",
      "\t Testing another integer infeasible problem\n",
      "\t Testing column based modelling\n",
      "\t Testing fractional constraints\n",
      "\t Testing elastic constraints (no change)\n",
      "\t Testing elastic constraints (freebound)\n",
      "\t Testing elastic constraints (penalty unchanged)\n",
      "\t Testing elastic constraints (penalty unbounded)\n",
      "\t Testing timeLimit argument\n",
      "\t Test that logic put in place for deprecation handling of indexs works\n",
      "\t Testing 'indexs' param continues to work for LpVariable.dicts\n",
      "\t Testing 'indexs' param continues to work for LpVariable.matrix\n",
      "\t Testing 'indices' argument works in LpVariable.dicts\n",
      "\t Testing 'indices' param continues to work for LpVariable.matrix\n",
      "\t Testing invalid status\n",
      "\t Testing continuous LP solution - export dict\n",
      "\t Testing export dict for LP\n",
      "\t Testing export dict MIP\n",
      "\t Testing maximize continuous LP solution\n",
      "\t Testing continuous LP solution - export JSON\n",
      "\t Testing continuous LP solution - export solver dict\n",
      "\t Testing continuous LP solution - export solver JSON\n",
      "\t Testing reading MPS files - binary variable, no constraint names\n",
      "\t Testing reading MPS files - integer variable\n",
      "\t Testing reading MPS files - maximize\n",
      "\t Testing reading MPS files - noname\n",
      "\t Testing invalid var names\n",
      "\t Testing logPath argument\n"
     ]
    },
    {
     "name": "stderr",
     "output_type": "stream",
     "text": [
      ".."
     ]
    },
    {
     "name": "stdout",
     "output_type": "stream",
     "text": [
      "\t Testing makeDict general behavior\n",
      "\t Testing makeDict default value behavior\n",
      "\t Testing measuring optimization time\n"
     ]
    },
    {
     "name": "stderr",
     "output_type": "stream",
     "text": [
      ".....................................sssssssssssssssssssssssssssssssssssssssssssssssssssssssssssssssssssssssssssssssssssssssssssssssssssssssssssssssssssssssssssssssssssssssssssssssssssssssssssssssssssssssssssssssssssssssssssssssssssssssssssssssssssssssssssssssssssssssssssssssssssssssssssssssssssssssssssssssssssssssssssssssssssssss\n",
      "----------------------------------------------------------------------\n",
      "Ran 1003 tests in 10.935s\n",
      "\n",
      "OK (skipped=885)\n"
     ]
    },
    {
     "name": "stdout",
     "output_type": "stream",
     "text": [
      "\t Testing that `readsol` can parse CPLEX mipopt solution\n",
      "\t Testing the availability of the function pulpTestAll\n",
      "\t Testing zero subtraction\n",
      "\t Testing inconsistent lp solution\n",
      "\t Testing continuous LP solution\n",
      "\t Testing maximize continuous LP solution\n",
      "\t Testing unbounded continuous LP solution\n",
      "\t Testing Long Names\n",
      "\t Testing repeated Names\n",
      "\t Testing zero constraint\n",
      "\t Testing zero objective\n",
      "\t Testing LpVariable (not LpAffineExpression) objective\n",
      "\t Testing Long lines in LP\n",
      "\t Testing LpAffineExpression divide\n",
      "\t Testing MIP solution\n",
      "\t Testing MIP solution with floats in objective\n",
      "\t Testing Initial value in MIP solution\n",
      "\t Testing fixing value in MIP solution\n",
      "\t Testing MIP relaxation\n",
      "\t Testing feasibility problem (no objective)\n",
      "\t Testing an infeasible problem\n",
      "\t Testing an integer infeasible problem\n",
      "\t Testing another integer infeasible problem\n",
      "\t Testing column based modelling\n",
      "\t Testing dual variables and slacks reporting\n",
      "\t Testing fractional constraints\n",
      "\t Testing elastic constraints (no change)\n",
      "\t Testing elastic constraints (freebound)\n",
      "\t Testing elastic constraints (penalty unchanged)\n",
      "\t Testing elastic constraints (penalty unbounded)\n",
      "\t Testing timeLimit argument\n"
     ]
    }
   ],
   "source": [
    "# Test pulp installation\n",
    "pulp.pulpTestAll()"
   ]
  },
  {
   "cell_type": "code",
   "execution_count": null,
   "metadata": {},
   "outputs": [],
   "source": [
    "def check_layers(name):\n",
    "    layers = [\n",
    "        \"dense_1.weight_integer\",\n",
    "        \"dense_1.bias_integer\",\n",
    "        \"dense_2.weight_integer\",\n",
    "        \"dense_2.bias_integer\",\n",
    "        \"dense_3.weight_integer\",\n",
    "        \"dense_3.bias_integer\",\n",
    "        \"dense_4.weight_integer\",\n",
    "        \"dense_4.bias_integer\",\n",
    "    ]\n",
    "    for layer in layers:\n",
    "        if name == layer:\n",
    "            return True\n",
    "    return False\n",
    "\n",
    "def count_hawq_nonzero_weights(model):\n",
    "    nonzero = total = 0\n",
    "    layer_count_alive = {}\n",
    "    layer_count_total = {}\n",
    "    for name, p in model.named_buffers():\n",
    "        if check_layers(name):\n",
    "            tensor = p.data.cpu().numpy()\n",
    "            nz_count = np.count_nonzero(tensor)\n",
    "            total_params = np.prod(tensor.shape)\n",
    "            layer_count_alive.update({name: nz_count})\n",
    "            layer_count_total.update({name: total_params})\n",
    "            nonzero += nz_count\n",
    "            total += total_params\n",
    "            logging.info(\n",
    "                f\"{name:20} | nonzeros = {nz_count:7} / {total_params:7} ({100 * nz_count / total_params:6.2f}%) | total_pruned = {total_params - nz_count :7} | shape = {tensor.shape}\"\n",
    "            )\n",
    "    logging.info(\n",
    "        f\"alive: {nonzero}, pruned : {total - nonzero}, total: {total}, Compression rate : {total/nonzero:10.2f}x  ({100 * (total-nonzero) / total:6.2f}% pruned)\"\n",
    "    )\n",
    "    return (\n",
    "        nonzero,\n",
    "        total,\n",
    "        layer_count_alive,\n",
    "        layer_count_total,\n",
    "        (100 * (total - nonzero) / total),\n",
    "    )\n",
    "\n",
    "\n",
    "def calc_hawq_bops(model, input_data_precision=32):\n",
    "    last_bit_width = input_data_precision\n",
    "    alive, total, l_alive, l_total, pruned = count_hawq_nonzero_weights(model)\n",
    "    b_w = model.dense_1.bias_bit if hasattr(model, \"dense_1\") else 32\n",
    "    total_BOPS = 0\n",
    "    for name, module in model.named_modules():\n",
    "        if isinstance(module, torch.nn.Linear) or isinstance(module, QuantLinear):\n",
    "            b_a = last_bit_width\n",
    "            # b_w = module.quant_weight_bit_width #Dont think this is a property I can access sadly, going with precision as given set in model\n",
    "            n = module.in_features\n",
    "            m = module.out_features\n",
    "            total = l_total[name + \".weight_integer\"] + l_total[name + \".bias_integer\"]\n",
    "            alive = l_alive[name + \".weight_integer\"] + l_alive[name + \".bias_integer\"]\n",
    "            p = 1 - ((total - alive) / total)  # fraction of layer remaining\n",
    "            # assuming b_a is the output bitwidth of the last layer\n",
    "            # module_BOPS = m*n*p*(b_a*b_w + b_a + b_w + math.log2(n))\n",
    "            module_BOPS = m * n * (p * b_a * b_w + b_a + b_w + math.log2(n))\n",
    "            logging.info(\n",
    "                \"{} BOPS: {} = {}*{}({}*{}*{} + {} + {} + {})\".format(\n",
    "                    name, module_BOPS, m, n, p, b_a, b_w, b_a, b_w, math.log2(n)\n",
    "                )\n",
    "            )\n",
    "            last_bit_width = b_w\n",
    "            total_BOPS += module_BOPS\n",
    "    logging.info(\"Total BOPS: {}\".format(total_BOPS))\n",
    "    return total_BOPS, pruned"
   ]
  }
 ],
 "metadata": {
  "kernelspec": {
   "display_name": "Python 3",
   "language": "python",
   "name": "python3"
  },
  "language_info": {
   "codemirror_mode": {
    "name": "ipython",
    "version": 3
   },
   "file_extension": ".py",
   "mimetype": "text/x-python",
   "name": "python",
   "nbconvert_exporter": "python",
   "pygments_lexer": "ipython3",
   "version": "3.10.6"
  },
  "orig_nbformat": 4,
  "vscode": {
   "interpreter": {
    "hash": "31f2aee4e71d21fbe5cf8b01ff0e069b9275f58929596ceb00d14d90e3e16cd6"
   }
  }
 },
 "nbformat": 4,
 "nbformat_minor": 2
}
