{
 "cells": [
  {
   "cell_type": "code",
   "execution_count": 1,
   "metadata": {},
   "outputs": [],
   "source": [
    "import numpy as np"
   ]
  },
  {
   "cell_type": "code",
   "execution_count": 2,
   "metadata": {},
   "outputs": [],
   "source": [
    "def get_tmux_bash_script(i_VM, i_threads, i_FI_loop_ranges, i_variant, i_vinputs):\n",
    "    bash_string  = \"#!/bin/bash\\n\"\n",
    "\n",
    "    for i in range(i_VM*i_threads, i_VM*i_threads+i_threads):\n",
    "        # bash_string += f\"tmux new-session -d -s vs{i} './scripts/sampling-faulty-eval-experiment-forloop.sh {i}'\\n\"\n",
    "\n",
    "        lbi = i_FI_loop_ranges[i][0]\n",
    "        hbi = i_FI_loop_ranges[i][1]\n",
    "        model_name = f'\"ECONT-{i_variant}\"'\n",
    "        bash_string += f\"tmux new-session -d -s vs{i:03} './scripts/iccad_2023_experiment1_FI_forloop_{i_variant}.sh {model_name} {i_vinputs} {i:03} {lbi} {hbi} 64'\\n\"\n",
    "\n",
    "    return bash_string\n",
    "\n",
    "def gen_EXP1_ECONT_VM_scripts(i_bits, i_variant, i_vinputs):\n",
    "    total_bits = i_bits\n",
    "    vsystems_per_VM = 70\n",
    "    total_VMs = 13\n",
    "    total_vsystems = vsystems_per_VM * total_VMs\n",
    "\n",
    "    bits_per_vsystem = np.ceil(total_bits/total_vsystems)\n",
    "\n",
    "    ranges_for_VM_scripts = list()\n",
    "    for curr_vs in range(total_vsystems):\n",
    "        curr_lbi = int(bits_per_vsystem*curr_vs)\n",
    "        curr_hbi = int(min(curr_lbi + bits_per_vsystem, total_bits))  \n",
    "        ranges_for_VM_scripts.append( (curr_lbi, curr_hbi, curr_hbi-curr_lbi))\n",
    "\n",
    "    for curr_vm in range(total_VMs):\n",
    "        with open(f\"iccad_2023_experiment1_{i_variant}_VM{curr_vm:02}.sh\", \"w\") as f:\n",
    "            f.write(get_tmux_bash_script(curr_vm, 70, ranges_for_VM_scripts, i_variant, i_vinputs))\n",
    "\n",
    "#I: Total bits per ECON-T variant\n",
    "### 61344 large pareto\n",
    "### 12720 baseline\n",
    "### 10240 small pareto\n",
    "gen_EXP1_ECONT_VM_scripts(12720, \"baseline\", \"v648002-h8192\")\n",
    "\n",
    "gen_EXP1_ECONT_VM_scripts(10240, \"small-pareto\", \"v648002-h8192\")\n",
    "\n",
    "gen_EXP1_ECONT_VM_scripts(61344, \"large-pareto\", \"v648002-h8192\")"
   ]
  }
 ],
 "metadata": {
  "kernelspec": {
   "display_name": "fastml-science-ecoder-env",
   "language": "python",
   "name": "python3"
  },
  "language_info": {
   "codemirror_mode": {
    "name": "ipython",
    "version": 3
   },
   "file_extension": ".py",
   "mimetype": "text/x-python",
   "name": "python",
   "nbconvert_exporter": "python",
   "pygments_lexer": "ipython3",
   "version": "3.7.12"
  },
  "orig_nbformat": 4
 },
 "nbformat": 4,
 "nbformat_minor": 2
}
